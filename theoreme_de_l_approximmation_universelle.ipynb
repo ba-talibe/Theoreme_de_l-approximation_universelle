{
  "nbformat": 4,
  "nbformat_minor": 2,
  "metadata": {
    "colab": {
      "name": "theoreme_de_l'approximmation_universelle.ipynb",
      "provenance": [],
      "collapsed_sections": []
    },
    "kernelspec": {
      "name": "python3",
      "display_name": "Python 3.8.8 64-bit ('base': conda)"
    },
    "language_info": {
      "name": "python",
      "version": "3.8.8",
      "mimetype": "text/x-python",
      "codemirror_mode": {
        "name": "ipython",
        "version": 3
      },
      "pygments_lexer": "ipython3",
      "nbconvert_exporter": "python",
      "file_extension": ".py"
    },
    "interpreter": {
      "hash": "0a68560ac5fa189937582e12b6012236ca425f18e24b281368e7602d641ffe91"
    }
  },
  "cells": [
    {
      "cell_type": "code",
      "execution_count": 1,
      "source": [
        "#from tensorflow import keras\n",
        "from tensorflow.keras.models import Sequential\n",
        "from tensorflow.keras import backend as K\n",
        "from tensorflow.keras.layers import Dense\n",
        "import matplotlib.pyplot as plt\n",
        "import numpy as np\n"
      ],
      "outputs": [],
      "metadata": {
        "id": "5Tlhx-EYpe50"
      }
    },
    {
      "cell_type": "code",
      "execution_count": 46,
      "source": [
        "#heviside fonction\n",
        "#https://github.com/exo7math/deepmath-exo7\n",
        "\n",
        "def heaviside(x):\n",
        "\t\"\"\" Définis la fonction de Heaviside qui n'est pas défini\n",
        "\tpar défaut dans keras. A utiliser comme fonction \n",
        "\td'activiation lors de la définition d'une couche par exemple\n",
        "\t    modele.add(Dense(4,activation=heaviside))\n",
        "\tAttention il n'y a pas de guillemet ici.\n",
        "\tAstuce de la formule : H(x) = 1/2 (1+|x|) \"\"\"\n",
        "\n",
        "\t# return (1+x/K.abs(x))/2\n",
        "\t# return (1+K.sign(x))/2\n",
        "\n",
        "\tz = K.zeros_like(x)\t\n",
        "\treturn 1-K.maximum(z,K.sign(-x))"
      ],
      "outputs": [],
      "metadata": {
        "id": "GsN-B9yNgMKf"
      }
    },
    {
      "cell_type": "code",
      "execution_count": 41,
      "source": [
        "print(heaviside(74))"
      ],
      "outputs": [
        {
          "output_type": "stream",
          "name": "stdout",
          "text": [
            "from heaviside : 74 <class 'int'>\n",
            "tf.Tensor(1, shape=(), dtype=int32)\n"
          ]
        }
      ],
      "metadata": {}
    },
    {
      "cell_type": "code",
      "execution_count": 58,
      "source": [
        "# fonction qui cree un modele pour apromixer la fonction f\n",
        "# dans l'intervalle [a, b] avec n escalier\n",
        "def createModel(f, a, b, n): \n",
        "\n",
        "    modele = Sequential()\n",
        "    # pour n escaliers on a besoin de 2n neurones (perceptron)\n",
        "    modele.add(Dense(2*n, input_dim=1, activation=heaviside))\n",
        "    modele.add(Dense(1,)) # On specifie pas la fonction d'activation donc par defaut on aura la fonction identite\n",
        "\n",
        "    \n",
        "    stairPoints = np.linspace(a, b, n+1)\n",
        "\n",
        "    x_val = np.array([[-i, i] for i in stairPoints[1:n]]) \n",
        "    x_val.resize(2*len(x_val))\n",
        "    x_val = list(x_val)\n",
        "    x_val.insert(0 ,a)\n",
        "    x_val.append( -b)\n",
        "    biais_c0 = np.array([(-1)**i for i in range(1, 2*n+1)])\n",
        "    coef_c0 = np.array([[1/i for i in x_val]])\n",
        "\n",
        "\n",
        "    poids_c0 = [coef_c0, biais_c0]\n",
        "    \n",
        "\n",
        "    modele.layers[0].set_weights(poids_c0)\n",
        "\n",
        "    #poids de la couche 1 de neurone\n",
        "    coef_c1 = [[f(a)] for i in stairPoints[0:n] for a in (i, i)]\n",
        "    biais_c1 = np.array([-sum([i[0] for i in coef_c1])/2])\n",
        "    coef_c1, biais_c1 = np.array(coef_c1), np.array(biais_c1)\n",
        "    poids_c1 = [coef_c1, biais_c1]\n",
        "    #print(coef_c1, biais_c1)\n",
        "    #print(len(coef_c1), len(biais_c1))\n",
        "    modele.layers[1].set_weights(poids_c1)\n",
        "    return modele\n"
      ],
      "outputs": [],
      "metadata": {
        "id": "A3gW10mkpxZc"
      }
    },
    {
      "cell_type": "code",
      "execution_count": 61,
      "source": [
        "#f = lambda x: np.sin(x**2) + np.cos(x**2)\n",
        "f = lambda x: 2*x + 4\n",
        "\n",
        "myModel = createModel(f,0, 20, 100)\n",
        "\n",
        "X = np.linspace(0, 20, 50)\n",
        "Y1 = [y[0] for y in myModel.predict(X)]\n",
        "plt.plot(X, Y1)\n",
        "plt.plot(X, f(X))\n",
        "plt.tight_layout()\n",
        "plt.show()"
      ],
      "outputs": [
        {
          "output_type": "stream",
          "name": "stdout",
          "text": [
            "WARNING:tensorflow:6 out of the last 11 calls to <function Model.make_predict_function.<locals>.predict_function at 0x7f79585e4dc0> triggered tf.function retracing. Tracing is expensive and the excessive number of tracings could be due to (1) creating @tf.function repeatedly in a loop, (2) passing tensors with different shapes, (3) passing Python objects instead of tensors. For (1), please define your @tf.function outside of the loop. For (2), @tf.function has experimental_relax_shapes=True option that relaxes argument shapes that can avoid unnecessary retracing. For (3), please refer to https://www.tensorflow.org/guide/function#controlling_retracing and https://www.tensorflow.org/api_docs/python/tf/function for  more details.\n"
          ]
        },
        {
          "output_type": "display_data",
          "data": {
            "image/png": "[encoded data removed]",
            "text/plain": [
              "<Figure size 432x288 with 1 Axes>"
            ]
          },
          "metadata": {
            "needs_background": "light"
          }
        }
      ],
      "metadata": {
        "colab": {
          "base_uri": "https://localhost:8080/"
        },
        "id": "n6Sc-PG_qbtu",
        "outputId": "cda1cc9a-0158-4b7c-bac2-bdc8932933c5"
      }
    },
    {
      "cell_type": "code",
      "execution_count": 45,
      "source": [
        "createModel(f, 1, 3, 5)"
      ],
      "outputs": [
        {
          "output_type": "stream",
          "name": "stdout",
          "text": [
            "from heaviside : Tensor(\"dense_36/BiasAdd:0\", shape=(None, 10), dtype=float32) <class 'tensorflow.python.framework.ops.Tensor'>\n",
            "[[ 1.38177329]\n",
            " [ 1.38177329]\n",
            " [ 0.54575976]\n",
            " [ 0.54575976]\n",
            " [-1.0934105 ]\n",
            " [-1.0934105 ]\n",
            " [-0.8646038 ]\n",
            " [-0.8646038 ]\n",
            " [ 1.34741282]\n",
            " [ 1.34741282]] [-1.31693156]\n",
            "Model: \"sequential_18\"\n",
            "_________________________________________________________________\n",
            "Layer (type)                 Output Shape              Param #   \n",
            "=================================================================\n",
            "dense_36 (Dense)             (None, 10)                20        \n",
            "_________________________________________________________________\n",
            "dense_37 (Dense)             (None, 1)                 11        \n",
            "=================================================================\n",
            "Total params: 31\n",
            "Trainable params: 31\n",
            "Non-trainable params: 0\n",
            "_________________________________________________________________\n"
          ]
        }
      ],
      "metadata": {
        "colab": {
          "base_uri": "https://localhost:8080/"
        },
        "id": "UXdOVvRYH73Z",
        "outputId": "ccf6b644-a6f1-4429-91af-f5e0cad0d818"
      }
    }
  ]
}