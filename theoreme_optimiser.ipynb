{
  "nbformat": 4,
  "nbformat_minor": 2,
  "metadata": {
    "colab": {
      "name": "theoreme_de_l'approximmation_universelle.ipynb",
      "provenance": [],
      "collapsed_sections": []
    },
    "kernelspec": {
      "name": "python3",
      "display_name": "Python 3.8.8 64-bit ('base': conda)"
    },
    "language_info": {
      "name": "python",
      "version": "3.8.8",
      "mimetype": "text/x-python",
      "codemirror_mode": {
        "name": "ipython",
        "version": 3
      },
      "pygments_lexer": "ipython3",
      "nbconvert_exporter": "python",
      "file_extension": ".py"
    },
    "interpreter": {
      "hash": "0a68560ac5fa189937582e12b6012236ca425f18e24b281368e7602d641ffe91"
    }
  },
  "cells": [
    {
      "cell_type": "code",
      "execution_count": 2,
      "source": [
        "from tensorflow.keras.models import Sequential\n",
        "from tensorflow.keras import backend as K\n",
        "from tensorflow.keras.layers import Dense\n",
        "import matplotlib.pyplot as plt\n",
        "import numpy as np\n"
      ],
      "outputs": [],
      "metadata": {
        "id": "5Tlhx-EYpe50"
      }
    },
    {
      "cell_type": "markdown",
      "source": [
        "# **La fonction marche d'heaviside qui nous servira de fonction  d'activation**"
      ],
      "metadata": {}
    },
    {
      "cell_type": "code",
      "execution_count": 3,
      "source": [
        "#heviside fonction\n",
        "# reference : https://github.com/exo7math/deepmath-exo7\n",
        "\n",
        "def heaviside(x):\n",
        "\t\"\"\" Définis la fonction de Heaviside qui n'est pas défini\n",
        "\tpar défaut dans keras. A utiliser comme fonction \n",
        "\td'activiation lors de la définition d'une couche par exemple\n",
        "\t    modele.add(Dense(4,activation=heaviside))\n",
        "\tAttention il n'y a pas de guillemet ici.\n",
        "\tAstuce de la formule : H(x) = 1/2 (1+|x|) \"\"\"\n",
        "\n",
        "\t# return (1+x/K.abs(x))/2\n",
        "\t# return (1+K.sign(x))/2\n",
        "\n",
        "\tz = K.zeros_like(x)\t\n",
        "\treturn 1-K.maximum(z,K.sign(-x))"
      ],
      "outputs": [],
      "metadata": {
        "id": "GsN-B9yNgMKf"
      }
    },
    {
      "cell_type": "markdown",
      "source": [
        "# **modele d'un escalier**\n",
        "![alt text](modele_escalier.png \"escalier\")\n"
      ],
      "metadata": {}
    },
    {
      "cell_type": "markdown",
      "source": [
        "# **modele d'un escalier**\n",
        "![alt text](graph.png \"graphique\")"
      ],
      "metadata": {}
    },
    {
      "cell_type": "markdown",
      "source": [
        "# **La fonction createStairs va generer les poids pour un escalier d'abcsisses a et b**"
      ],
      "metadata": {}
    },
    {
      "cell_type": "code",
      "execution_count": 4,
      "source": [
        "def createStairs(a, b):\n",
        "    coef = list()\n",
        "    biais = list()\n",
        "\n",
        "    if a < 0:\n",
        "        coef.append(-1/a)\n",
        "        biais.append(1)\n",
        "    elif a > 0:\n",
        "        coef.append(1/a)\n",
        "        biais.append(-1)\n",
        "    else:\n",
        "        coef.append(1)\n",
        "        biais.append(0)\n",
        "\n",
        "    if b < 0:\n",
        "        coef.append(1/b)\n",
        "        biais.append(-1)\n",
        "    elif b > 0:\n",
        "        coef.append(-1/b)\n",
        "        biais.append(1)\n",
        "    else:\n",
        "        coef.append(-1)\n",
        "        biais.append(0)\n",
        "\n",
        "    return coef, biais"
      ],
      "outputs": [],
      "metadata": {}
    },
    {
      "cell_type": "markdown",
      "source": [
        "# **La fonction qui cree le modele pour apromixer la fonction f dans l'intervalle [a, b] avec n escalier**"
      ],
      "metadata": {}
    },
    {
      "cell_type": "code",
      "execution_count": 5,
      "source": [
        "\n",
        "def createModel(f, a, b, n): \n",
        "\n",
        "    model = Sequential()\n",
        "    model.add(Dense(2*n, input_dim=1, activation=heaviside))\n",
        "    # On specifie pas la fonction d'activation donc par defaut on aura la fonction identite\n",
        "    model.add(Dense(1,))\n",
        "\n",
        "    # generation des abcsisses des escalier\n",
        "    stairPoints = np.linspace(a, b, n+1)\n",
        "\n",
        "    coef_c0 = np.array([\n",
        "            createStairs(stairPoints[i], \n",
        "            stairPoints[i+1])[0] for i in range(n)])\n",
        "\n",
        "    #poids de la couche 0 de neurone\n",
        "    biais_c0 = np.array([\n",
        "            createStairs(stairPoints[i], \n",
        "            stairPoints[i+1])[1] for i in range(n)])\n",
        "\n",
        "    coef_c0.resize(2*len(coef_c0))\n",
        "    coef_c0 = np.array([coef_c0])\n",
        "   \n",
        "    biais_c0.resize(2*len(biais_c0))\n",
        "    poids_c0 = [coef_c0, biais_c0]\n",
        "    \n",
        "\n",
        "    model.layers[0].set_weights(poids_c0)\n",
        "\n",
        "    #poids de la couche 1 de neurone\n",
        "    coef_c1 = [[f(a)] for i in stairPoints[0:n] for a in (i, i)]\n",
        "    biais_c1 = np.array([-sum([i[0] for i in coef_c1])/2])\n",
        "    coef_c1, biais_c1 = np.array(coef_c1), np.array(biais_c1)\n",
        "    poids_c1 = [coef_c1, biais_c1]\n",
        "\n",
        "    model.layers[1].set_weights(poids_c1)\n",
        "\n",
        "    #Trace du graphe\n",
        "    \"\"\"\n",
        "    val_x = np.linspace(-5, 5, 100)\n",
        "    val_y = [y[0] for y in model.predict(val_x)]\n",
        "    plt.plot(val_x, val_y)\n",
        "    plt.plot(val_x, f(val_x))\n",
        "    plt.tight_layout()\n",
        "    plt.show()\n",
        "    \"\"\"\n",
        "    return model\n"
      ],
      "outputs": [],
      "metadata": {
        "id": "A3gW10mkpxZc"
      }
    },
    {
      "cell_type": "markdown",
      "source": [
        "# **Et enfin le test**"
      ],
      "metadata": {}
    },
    {
      "cell_type": "code",
      "execution_count": 6,
      "source": [
        "\n",
        "f = lambda x: x**3\n",
        "\n",
        "myModel1 = createModel(f,-10 , 10, 10)\n",
        "myModel2 = createModel(f, -10, 10, 50)\n",
        "myModel3 = createModel(f, -10, 10, 100)\n",
        "\n",
        "X = np.linspace(-7, 7, 70)\n",
        "Y_1 = [y[0] for y in myModel1.predict(X)]\n",
        "Y_2 = [y[0] for y in myModel2.predict(X)]\n",
        "Y_3 = [y[0] for y in myModel3.predict(X)]\n",
        "\n",
        "fig, (axes1, axes2, axes3) = plt.subplots(3, 1, figsize=(15, 15))\n",
        "\n",
        "axes1.plot(X, f(X))\n",
        "axes1.plot(X, Y_1, label=\"10 escaliers\")\n",
        "axes1.legend()\n",
        "\n",
        "axes2.plot(X, f(X))\n",
        "axes2.plot(X, Y_2, label=\"100 escaliers\")\n",
        "axes2.legend()\n",
        "\n",
        "axes3.plot(X, f(X))\n",
        "axes3.plot(X, Y_3, label=\"100 escaliers\")\n",
        "axes3.legend()\n",
        "plt.show()"
      ],
      "outputs": [
        {
          "output_type": "stream",
          "name": "stderr",
          "text": [
            "2021-09-20 20:21:12.070859: I tensorflow/compiler/jit/xla_cpu_device.cc:41] Not creating XLA devices, tf_xla_enable_xla_devices not set\n",
            "2021-09-20 20:21:12.071540: I tensorflow/core/platform/cpu_feature_guard.cc:142] This TensorFlow binary is optimized with oneAPI Deep Neural Network Library (oneDNN) to use the following CPU instructions in performance-critical operations:  SSE4.1 SSE4.2\n",
            "To enable them in other operations, rebuild TensorFlow with the appropriate compiler flags.\n",
            "2021-09-20 20:21:12.073685: I tensorflow/core/common_runtime/process_util.cc:146] Creating new thread pool with default inter op setting: 2. Tune using inter_op_parallelism_threads for best performance.\n",
            "2021-09-20 20:21:13.285890: I tensorflow/compiler/mlir/mlir_graph_optimization_pass.cc:116] None of the MLIR optimization passes are enabled (registered 2)\n",
            "2021-09-20 20:21:13.302334: I tensorflow/core/platform/profile_utils/cpu_utils.cc:112] CPU Frequency: 1600000000 Hz\n"
          ]
        },
        {
          "output_type": "display_data",
          "data": {
            "image/png": "[encoded data removed]",
            "text/plain": [
              "<Figure size 720x360 with 3 Axes>"
            ]
          },
          "metadata": {
            "needs_background": "light"
          }
        }
      ],
      "metadata": {
        "colab": {
          "base_uri": "https://localhost:8080/"
        },
        "id": "n6Sc-PG_qbtu",
        "outputId": "cda1cc9a-0158-4b7c-bac2-bdc8932933c5"
      }
    },
    {
      "cell_type": "markdown",
      "source": [],
      "metadata": {}
    }
  ]
}